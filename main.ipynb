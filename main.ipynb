{
 "cells": [
  {
   "cell_type": "markdown",
   "metadata": {},
   "source": [
    "1. What happens when you run this line?"
   ]
  },
  {
   "cell_type": "code",
   "execution_count": null,
   "metadata": {},
   "outputs": [],
   "source": [
    "myName = input(\"What's your name? \")\n",
    "myLunch = input(\"What are you having for lunch? \")\n",
    "print(myName, \"is going to be chowing down on\", myLunch, \"very soon!\")"
   ]
  },
  {
   "cell_type": "markdown",
   "metadata": {},
   "source": [
    "2. What happens when you run these lines?"
   ]
  },
  {
   "cell_type": "code",
   "execution_count": null,
   "metadata": {},
   "outputs": [],
   "source": [
    "number = input(\"Give me a number: \")\n",
    "group = input(\"Give me a collective noun for a group of things: \")\n",
    "thing = input(\"Give me the name of a weird or wacky thing: \")\n",
    "print(\"No I don't think that\", number, \"is a\", group, \"of\", thing,\". That's just odd.\")"
   ]
  },
  {
   "cell_type": "markdown",
   "metadata": {},
   "source": [
    "3. What happens when you run these lines? Fix the code."
   ]
  },
  {
   "cell_type": "code",
   "execution_count": null,
   "metadata": {},
   "outputs": [],
   "source": [
    "yourName = input(\"Name: \")\n",
    "whatYear = input(\"What year is it?: \")\n",
    "print(yourName \"thinks it is\" whatYear)"
   ]
  },
  {
   "cell_type": "markdown",
   "metadata": {},
   "source": [
    "4. What happens when you run these lines? Fix the code."
   ]
  },
  {
   "cell_type": "code",
   "execution_count": null,
   "metadata": {},
   "outputs": [],
   "source": [
    "yourName = input(\"Name: \")\n",
    "whatYear = input(\"What year is it?: \")\n",
    "print(\"yourName, thinks it is, whatYear\")"
   ]
  },
  {
   "cell_type": "markdown",
   "metadata": {},
   "source": [
    "5. What happens when you run these lines? Fix the code."
   ]
  },
  {
   "cell_type": "code",
   "execution_count": null,
   "metadata": {},
   "outputs": [],
   "source": [
    "print(\"=== Your Song Generator ===\")\n",
    "print(\"\"\"You'll be asked a bunch of questions\n",
    "then we'll make you up an amazing\n",
    "song, totally copyright free 😭\"\"\")\n",
    "print()\n",
    "person = input(\"Name a person famous for something good: \")\n",
    "thing = input(\"Name a thing they did: \")\n",
    "place = input(\"Name a place you like: \")\n",
    "rhyme = input(\"Give me a verb that rhymes with your person's name: \")\n",
    "print()\n",
    "print(\"There was a person called\" name)\n",
    "print(\"Who did something cool like\", thing, \"at the wonderful\", place \"where you'll find me\", rhyme)"
   ]
  },
  {
   "cell_type": "markdown",
   "metadata": {},
   "source": [
    "### Day 3 Challenge\n",
    "\n",
    "We have learned enough skills for a simple, but cool, project!\n",
    "\n",
    "Remember when you were a kid and thought the ideal dinner would just be all your favorite things mixed in a bowl? How did that Nutella Mac & Cheese taste? Well - let's come up with a recipe generator to build us an amazing dish for today's evening meal!\n",
    "\n",
    "You will need to:\n",
    "\n",
    "1. Create these as a variable:\n",
    "  A type of food\n",
    "  A type of plant\n",
    "  A method of cooking\n",
    "  A word to describe burned food\n",
    "  A household item\n",
    "\n",
    "2. Output a nice looking Recipe page that *concatenates* a dish in this format:\n",
    "  - cooking food with burned plant on a bed of item"
   ]
  },
  {
   "cell_type": "code",
   "execution_count": null,
   "metadata": {},
   "outputs": [],
   "source": []
  }
 ],
 "metadata": {
  "language_info": {
   "name": "python"
  }
 },
 "nbformat": 4,
 "nbformat_minor": 2
}
